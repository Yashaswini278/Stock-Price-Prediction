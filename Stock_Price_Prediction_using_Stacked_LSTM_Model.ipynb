{
  "cells": [
    {
      "cell_type": "markdown",
      "metadata": {
        "id": "Nr83KrbTsurD"
      },
      "source": [
        "# Stock Price Prediction using Stacked LSTM Model"
      ]
    },
    {
      "cell_type": "code",
      "execution_count": 1,
      "metadata": {
        "id": "-ls5YGyYsurG"
      },
      "outputs": [],
      "source": [
        "# Import required libraries\n",
        "import numpy as np\n",
        "import matplotlib.pyplot as plt\n",
        "import pandas as pd\n",
        "import math\n",
        "import keras\n",
        "from keras.models import Sequential\n",
        "from keras.layers import Dense\n",
        "from keras.layers import LSTM\n",
        "from keras.layers import Dropout\n",
        "from keras.layers import *\n",
        "from sklearn.preprocessing import MinMaxScaler\n",
        "from sklearn.metrics import mean_squared_error\n",
        "from sklearn.metrics import mean_absolute_error\n",
        "from sklearn.model_selection import train_test_split\n",
        "from keras.callbacks import EarlyStopping\n",
        "# fix random seed for reproducibility\n",
        "np.random.seed(7)"
      ]
    },
    {
      "cell_type": "code",
      "execution_count": 2,
      "metadata": {
        "id": "gLtes9obsurI",
        "outputId": "44f683b0-20c1-4c2e-eb45-0865efc8232b",
        "colab": {
          "base_uri": "https://localhost:8080/"
        }
      },
      "outputs": [
        {
          "output_type": "execute_result",
          "data": {
            "text/plain": [
              "array([[0.00133696],\n",
              "       [0.0012507 ],\n",
              "       [0.00107819],\n",
              "       ...,\n",
              "       [0.91620304],\n",
              "       [0.91542675],\n",
              "       [0.87307543]])"
            ]
          },
          "metadata": {},
          "execution_count": 2
        }
      ],
      "source": [
        "#Import dataset\n",
        "df = pd.read_csv(\"big_five_stocks.csv\")\n",
        "df[\"Unnamed: 0\"] = pd.to_datetime(df[\"Unnamed: 0\"])\n",
        "df[\"year\"] = df[\"Unnamed: 0\"].dt.year\n",
        "df[\"month\"] = df[\"Unnamed: 0\"].dt.month\n",
        "df = df.rename({\"Unnamed: 0\" : \"date\"}, axis=1, inplace=False)\n",
        "\n",
        "# get apple stock data\n",
        "apple = df[df.name == 'AAPL'].drop(\"name\", axis=1)\n",
        "apple = apple.reset_index()['close']\n",
        "\n",
        "# scale data\n",
        "sc = MinMaxScaler(feature_range = (0, 1))\n",
        "apple = sc.fit_transform(np.array(apple).reshape(-1,1))\n",
        "apple"
      ]
    },
    {
      "cell_type": "code",
      "execution_count": 3,
      "metadata": {
        "id": "BmnPD5u1surJ",
        "outputId": "a989a94c-a648-4e24-c21e-e75b915a2b2f",
        "colab": {
          "base_uri": "https://localhost:8080/"
        }
      },
      "outputs": [
        {
          "output_type": "stream",
          "name": "stdout",
          "text": [
            "[[0.00133696]\n",
            " [0.0012507 ]\n",
            " [0.00107819]\n",
            " ...\n",
            " [0.04485272]\n",
            " [0.04368827]\n",
            " [0.04351576]]\n"
          ]
        }
      ],
      "source": [
        "# train-test split\n",
        "training_size= int(len(apple)*0.65)\n",
        "test_size = len(apple)-training_size\n",
        "train_data, test_data = apple[0:training_size,:],apple[training_size:len(apple),:1]\n",
        "print(train_data)"
      ]
    },
    {
      "cell_type": "code",
      "execution_count": 4,
      "metadata": {
        "id": "kmoZcGhtsurK"
      },
      "outputs": [],
      "source": [
        "# create for LSTM\n",
        "def create_dataset(dataset, time_step=1):\n",
        "    dataX, dataY = [], []\n",
        "    for i in range(len(dataset)-time_step-1):\n",
        "        a = dataset[i:(i+time_step), 0]\n",
        "        dataX.append(a)\n",
        "        dataY.append(dataset[i+time_step, 0])\n",
        "    return np.array(dataX),np.array(dataY)"
      ]
    },
    {
      "cell_type": "code",
      "execution_count": 5,
      "metadata": {
        "id": "R29smtGtsurK"
      },
      "outputs": [],
      "source": [
        "time_step=100\n",
        "X_train, y_train = create_dataset(train_data, time_step)\n",
        "X_test, y_test = create_dataset(test_data, time_step)"
      ]
    },
    {
      "cell_type": "code",
      "execution_count": 6,
      "metadata": {
        "scrolled": true,
        "id": "dLd5fBLBsurL"
      },
      "outputs": [],
      "source": [
        "X_train =X_train.reshape(X_train.shape[0],X_train.shape[1] , 1)\n",
        "X_test = X_test.reshape(X_test.shape[0],X_test.shape[1] , 1)"
      ]
    },
    {
      "cell_type": "code",
      "execution_count": 7,
      "metadata": {
        "id": "MyEwuEoysurL"
      },
      "outputs": [],
      "source": [
        "model=Sequential()\n",
        "model.add(LSTM(50,return_sequences=True,input_shape=(100,1)))\n",
        "model.add(LSTM(50,return_sequences=True))\n",
        "model.add(LSTM(50))\n",
        "model.add(Dense(1))\n",
        "model.compile(loss='mean_squared_error',optimizer='adam')"
      ]
    },
    {
      "cell_type": "code",
      "execution_count": 8,
      "metadata": {
        "id": "6UAvQs-9surL",
        "outputId": "aa7ec63b-9273-4f6d-f19e-8c9d866a0af7",
        "colab": {
          "base_uri": "https://localhost:8080/"
        }
      },
      "outputs": [
        {
          "output_type": "stream",
          "name": "stdout",
          "text": [
            "Model: \"sequential\"\n",
            "_________________________________________________________________\n",
            " Layer (type)                Output Shape              Param #   \n",
            "=================================================================\n",
            " lstm (LSTM)                 (None, 100, 50)           10400     \n",
            "                                                                 \n",
            " lstm_1 (LSTM)               (None, 100, 50)           20200     \n",
            "                                                                 \n",
            " lstm_2 (LSTM)               (None, 50)                20200     \n",
            "                                                                 \n",
            " dense (Dense)               (None, 1)                 51        \n",
            "                                                                 \n",
            "=================================================================\n",
            "Total params: 50,851\n",
            "Trainable params: 50,851\n",
            "Non-trainable params: 0\n",
            "_________________________________________________________________\n"
          ]
        }
      ],
      "source": [
        "model.summary()"
      ]
    },
    {
      "cell_type": "code",
      "execution_count": 9,
      "metadata": {
        "scrolled": true,
        "id": "tEIh6RTJsurL",
        "outputId": "1f01f701-aa9a-4d30-bcf2-a898e1973c24",
        "colab": {
          "base_uri": "https://localhost:8080/"
        }
      },
      "outputs": [
        {
          "output_type": "stream",
          "name": "stdout",
          "text": [
            "Epoch 1/100\n",
            "98/98 [==============================] - 14s 26ms/step - loss: 2.4234e-05 - val_loss: 0.0094\n",
            "Epoch 2/100\n",
            "98/98 [==============================] - 2s 19ms/step - loss: 8.1267e-07 - val_loss: 0.0071\n",
            "Epoch 3/100\n",
            "98/98 [==============================] - 2s 19ms/step - loss: 7.7820e-07 - val_loss: 0.0053\n",
            "Epoch 4/100\n",
            "98/98 [==============================] - 2s 16ms/step - loss: 8.2460e-07 - val_loss: 0.0068\n",
            "Epoch 5/100\n",
            "98/98 [==============================] - 1s 15ms/step - loss: 8.9936e-07 - val_loss: 0.0030\n",
            "Epoch 6/100\n",
            "98/98 [==============================] - 2s 15ms/step - loss: 8.2004e-07 - val_loss: 0.0040\n",
            "Epoch 7/100\n",
            "98/98 [==============================] - 1s 15ms/step - loss: 8.4108e-07 - val_loss: 0.0028\n",
            "Epoch 8/100\n",
            "98/98 [==============================] - 2s 16ms/step - loss: 7.1125e-07 - val_loss: 0.0025\n",
            "Epoch 9/100\n",
            "98/98 [==============================] - 2s 16ms/step - loss: 7.6751e-07 - val_loss: 0.0015\n",
            "Epoch 10/100\n",
            "98/98 [==============================] - 2s 22ms/step - loss: 7.2987e-07 - val_loss: 0.0021\n",
            "Epoch 11/100\n",
            "98/98 [==============================] - 2s 17ms/step - loss: 5.2632e-07 - val_loss: 0.0018\n",
            "Epoch 12/100\n",
            "98/98 [==============================] - 2s 16ms/step - loss: 6.3294e-07 - val_loss: 0.0015\n",
            "Epoch 13/100\n",
            "98/98 [==============================] - 1s 15ms/step - loss: 5.6470e-07 - val_loss: 0.0011\n",
            "Epoch 14/100\n",
            "98/98 [==============================] - 2s 16ms/step - loss: 5.3412e-07 - val_loss: 0.0017\n",
            "Epoch 15/100\n",
            "98/98 [==============================] - 2s 15ms/step - loss: 5.2630e-07 - val_loss: 0.0015\n",
            "Epoch 16/100\n",
            "98/98 [==============================] - 1s 15ms/step - loss: 6.3067e-07 - val_loss: 7.6289e-04\n",
            "Epoch 17/100\n",
            "98/98 [==============================] - 2s 18ms/step - loss: 5.4779e-07 - val_loss: 0.0024\n",
            "Epoch 18/100\n",
            "98/98 [==============================] - 2s 21ms/step - loss: 4.8485e-07 - val_loss: 8.3579e-04\n",
            "Epoch 19/100\n",
            "98/98 [==============================] - 2s 17ms/step - loss: 4.9412e-07 - val_loss: 6.0718e-04\n",
            "Epoch 20/100\n",
            "98/98 [==============================] - 2s 17ms/step - loss: 5.0979e-07 - val_loss: 6.9933e-04\n",
            "Epoch 21/100\n",
            "98/98 [==============================] - 3s 26ms/step - loss: 5.9186e-07 - val_loss: 8.2495e-04\n",
            "Epoch 22/100\n",
            "98/98 [==============================] - 2s 22ms/step - loss: 4.5651e-07 - val_loss: 7.9991e-04\n",
            "Epoch 23/100\n",
            "98/98 [==============================] - 2s 17ms/step - loss: 4.8601e-07 - val_loss: 0.0014\n",
            "Epoch 24/100\n",
            "98/98 [==============================] - 2s 24ms/step - loss: 3.9679e-07 - val_loss: 8.0305e-04\n",
            "Epoch 25/100\n",
            "98/98 [==============================] - 2s 17ms/step - loss: 6.0042e-07 - val_loss: 5.9475e-04\n",
            "Epoch 26/100\n",
            "98/98 [==============================] - 2s 17ms/step - loss: 5.5539e-07 - val_loss: 5.4034e-04\n",
            "Epoch 27/100\n",
            "98/98 [==============================] - 2s 16ms/step - loss: 4.5580e-07 - val_loss: 0.0013\n",
            "Epoch 28/100\n",
            "98/98 [==============================] - 2s 17ms/step - loss: 3.7962e-07 - val_loss: 5.4565e-04\n",
            "Epoch 29/100\n",
            "98/98 [==============================] - 2s 17ms/step - loss: 3.9041e-07 - val_loss: 4.7528e-04\n",
            "Epoch 30/100\n",
            "98/98 [==============================] - 2s 21ms/step - loss: 4.6205e-07 - val_loss: 8.4650e-04\n",
            "Epoch 31/100\n",
            "98/98 [==============================] - 2s 24ms/step - loss: 4.0648e-07 - val_loss: 7.5731e-04\n",
            "Epoch 32/100\n",
            "98/98 [==============================] - 2s 17ms/step - loss: 3.8188e-07 - val_loss: 0.0014\n",
            "Epoch 33/100\n",
            "98/98 [==============================] - 2s 17ms/step - loss: 3.5611e-07 - val_loss: 6.1692e-04\n",
            "Epoch 34/100\n",
            "98/98 [==============================] - 2s 20ms/step - loss: 3.9621e-07 - val_loss: 7.6432e-04\n",
            "Epoch 35/100\n",
            "98/98 [==============================] - 2s 25ms/step - loss: 3.5440e-07 - val_loss: 4.3127e-04\n",
            "Epoch 36/100\n",
            "98/98 [==============================] - 2s 16ms/step - loss: 3.6029e-07 - val_loss: 0.0012\n",
            "Epoch 37/100\n",
            "98/98 [==============================] - 2s 21ms/step - loss: 5.9556e-07 - val_loss: 6.5488e-04\n",
            "Epoch 38/100\n",
            "98/98 [==============================] - 2s 20ms/step - loss: 3.6728e-07 - val_loss: 0.0014\n",
            "Epoch 39/100\n",
            "98/98 [==============================] - 2s 17ms/step - loss: 3.1593e-07 - val_loss: 5.0226e-04\n",
            "Epoch 40/100\n",
            "98/98 [==============================] - 2s 16ms/step - loss: 4.0839e-07 - val_loss: 6.3101e-04\n",
            "Epoch 41/100\n",
            "98/98 [==============================] - 2s 16ms/step - loss: 3.1831e-07 - val_loss: 6.1914e-04\n",
            "Epoch 42/100\n",
            "98/98 [==============================] - 2s 16ms/step - loss: 3.4360e-07 - val_loss: 6.5627e-04\n",
            "Epoch 43/100\n",
            "98/98 [==============================] - 2s 16ms/step - loss: 3.4474e-07 - val_loss: 6.1240e-04\n",
            "Epoch 44/100\n",
            "98/98 [==============================] - 2s 17ms/step - loss: 3.4161e-07 - val_loss: 6.7872e-04\n",
            "Epoch 45/100\n",
            "98/98 [==============================] - 2s 22ms/step - loss: 3.0165e-07 - val_loss: 8.9366e-04\n",
            "Epoch 46/100\n",
            "98/98 [==============================] - 2s 15ms/step - loss: 3.0703e-07 - val_loss: 0.0017\n",
            "Epoch 47/100\n",
            "98/98 [==============================] - 2s 16ms/step - loss: 3.3288e-07 - val_loss: 8.8154e-04\n",
            "Epoch 48/100\n",
            "98/98 [==============================] - 2s 15ms/step - loss: 2.9901e-07 - val_loss: 6.4050e-04\n",
            "Epoch 49/100\n",
            "98/98 [==============================] - 2s 16ms/step - loss: 3.2047e-07 - val_loss: 0.0013\n",
            "Epoch 50/100\n",
            "98/98 [==============================] - 2s 16ms/step - loss: 2.8992e-07 - val_loss: 3.5790e-04\n",
            "Epoch 51/100\n",
            "98/98 [==============================] - 2s 16ms/step - loss: 3.0025e-07 - val_loss: 0.0015\n",
            "Epoch 52/100\n",
            "98/98 [==============================] - 2s 20ms/step - loss: 2.6539e-07 - val_loss: 4.0433e-04\n",
            "Epoch 53/100\n",
            "98/98 [==============================] - 2s 20ms/step - loss: 3.8636e-07 - val_loss: 0.0012\n",
            "Epoch 54/100\n",
            "98/98 [==============================] - 2s 16ms/step - loss: 3.4499e-07 - val_loss: 0.0015\n",
            "Epoch 55/100\n",
            "98/98 [==============================] - 2s 16ms/step - loss: 2.6068e-07 - val_loss: 6.1898e-04\n",
            "Epoch 56/100\n",
            "98/98 [==============================] - 2s 16ms/step - loss: 3.1781e-07 - val_loss: 7.6631e-04\n",
            "Epoch 57/100\n",
            "98/98 [==============================] - 2s 16ms/step - loss: 2.8480e-07 - val_loss: 6.5265e-04\n",
            "Epoch 58/100\n",
            "98/98 [==============================] - 2s 16ms/step - loss: 2.6205e-07 - val_loss: 7.0781e-04\n",
            "Epoch 59/100\n",
            "98/98 [==============================] - 2s 16ms/step - loss: 2.9263e-07 - val_loss: 7.4742e-04\n",
            "Epoch 60/100\n",
            "98/98 [==============================] - 2s 22ms/step - loss: 2.4910e-07 - val_loss: 9.1201e-04\n",
            "Epoch 61/100\n",
            "98/98 [==============================] - 2s 16ms/step - loss: 3.2297e-07 - val_loss: 8.6844e-04\n",
            "Epoch 62/100\n",
            "98/98 [==============================] - 2s 16ms/step - loss: 3.4144e-07 - val_loss: 4.8660e-04\n",
            "Epoch 63/100\n",
            "98/98 [==============================] - 2s 16ms/step - loss: 2.5096e-07 - val_loss: 7.9249e-04\n",
            "Epoch 64/100\n",
            "98/98 [==============================] - 2s 16ms/step - loss: 2.5919e-07 - val_loss: 6.6049e-04\n",
            "Epoch 65/100\n",
            "98/98 [==============================] - 2s 16ms/step - loss: 2.3456e-07 - val_loss: 8.2181e-04\n",
            "Epoch 66/100\n",
            "98/98 [==============================] - 2s 16ms/step - loss: 3.5186e-07 - val_loss: 0.0015\n",
            "Epoch 67/100\n",
            "98/98 [==============================] - 2s 20ms/step - loss: 2.6090e-07 - val_loss: 8.9813e-04\n",
            "Epoch 68/100\n",
            "98/98 [==============================] - 2s 20ms/step - loss: 2.5209e-07 - val_loss: 6.9266e-04\n",
            "Epoch 69/100\n",
            "98/98 [==============================] - 2s 16ms/step - loss: 2.3544e-07 - val_loss: 3.8431e-04\n",
            "Epoch 70/100\n",
            "98/98 [==============================] - 2s 16ms/step - loss: 2.4535e-07 - val_loss: 6.2247e-04\n",
            "Epoch 71/100\n",
            "98/98 [==============================] - 2s 16ms/step - loss: 2.3144e-07 - val_loss: 9.2778e-04\n",
            "Epoch 72/100\n",
            "98/98 [==============================] - 2s 16ms/step - loss: 2.2996e-07 - val_loss: 8.5946e-04\n",
            "Epoch 73/100\n",
            "98/98 [==============================] - 2s 16ms/step - loss: 2.6902e-07 - val_loss: 8.6091e-04\n",
            "Epoch 74/100\n",
            "98/98 [==============================] - 2s 16ms/step - loss: 2.9766e-07 - val_loss: 0.0011\n",
            "Epoch 75/100\n",
            "98/98 [==============================] - 2s 23ms/step - loss: 2.3433e-07 - val_loss: 7.3213e-04\n",
            "Epoch 76/100\n",
            "98/98 [==============================] - 2s 16ms/step - loss: 2.1127e-07 - val_loss: 6.4576e-04\n",
            "Epoch 77/100\n",
            "98/98 [==============================] - 2s 17ms/step - loss: 2.3492e-07 - val_loss: 0.0013\n",
            "Epoch 78/100\n",
            "98/98 [==============================] - 2s 16ms/step - loss: 2.1794e-07 - val_loss: 7.6712e-04\n",
            "Epoch 79/100\n",
            "98/98 [==============================] - 2s 16ms/step - loss: 1.8550e-07 - val_loss: 0.0011\n",
            "Epoch 80/100\n",
            "98/98 [==============================] - 2s 16ms/step - loss: 2.1216e-07 - val_loss: 5.6776e-04\n",
            "Epoch 81/100\n",
            "98/98 [==============================] - 2s 16ms/step - loss: 2.0927e-07 - val_loss: 7.0834e-04\n",
            "Epoch 82/100\n",
            "98/98 [==============================] - 2s 20ms/step - loss: 1.9961e-07 - val_loss: 7.1825e-04\n",
            "Epoch 83/100\n",
            "98/98 [==============================] - 2s 19ms/step - loss: 1.8577e-07 - val_loss: 8.0916e-04\n",
            "Epoch 84/100\n",
            "98/98 [==============================] - 2s 16ms/step - loss: 2.3943e-07 - val_loss: 9.3630e-04\n",
            "Epoch 85/100\n",
            "98/98 [==============================] - 2s 16ms/step - loss: 2.0933e-07 - val_loss: 6.8043e-04\n",
            "Epoch 86/100\n",
            "98/98 [==============================] - 2s 16ms/step - loss: 1.9160e-07 - val_loss: 5.5840e-04\n",
            "Epoch 87/100\n",
            "98/98 [==============================] - 2s 17ms/step - loss: 2.0781e-07 - val_loss: 5.5062e-04\n",
            "Epoch 88/100\n",
            "98/98 [==============================] - 2s 16ms/step - loss: 1.6574e-07 - val_loss: 7.0887e-04\n",
            "Epoch 89/100\n",
            "98/98 [==============================] - 2s 17ms/step - loss: 2.9399e-07 - val_loss: 9.5978e-04\n",
            "Epoch 90/100\n",
            "98/98 [==============================] - 2s 23ms/step - loss: 1.9937e-07 - val_loss: 0.0012\n",
            "Epoch 91/100\n",
            "98/98 [==============================] - 2s 16ms/step - loss: 1.9628e-07 - val_loss: 8.3733e-04\n",
            "Epoch 92/100\n",
            "98/98 [==============================] - 2s 16ms/step - loss: 2.0930e-07 - val_loss: 8.1989e-04\n",
            "Epoch 93/100\n",
            "98/98 [==============================] - 2s 15ms/step - loss: 1.6819e-07 - val_loss: 8.6057e-04\n",
            "Epoch 94/100\n",
            "98/98 [==============================] - 2s 16ms/step - loss: 1.7587e-07 - val_loss: 8.5971e-04\n",
            "Epoch 95/100\n",
            "98/98 [==============================] - 2s 16ms/step - loss: 1.7485e-07 - val_loss: 6.1696e-04\n",
            "Epoch 96/100\n",
            "98/98 [==============================] - 2s 16ms/step - loss: 1.9859e-07 - val_loss: 8.5784e-04\n",
            "Epoch 97/100\n",
            "98/98 [==============================] - 2s 20ms/step - loss: 2.4989e-07 - val_loss: 0.0012\n",
            "Epoch 98/100\n",
            "98/98 [==============================] - 2s 23ms/step - loss: 1.5811e-07 - val_loss: 0.0011\n",
            "Epoch 99/100\n",
            "98/98 [==============================] - 2s 21ms/step - loss: 1.9937e-07 - val_loss: 0.0011\n",
            "Epoch 100/100\n",
            "98/98 [==============================] - 2s 16ms/step - loss: 2.4172e-07 - val_loss: 9.4279e-04\n"
          ]
        },
        {
          "output_type": "execute_result",
          "data": {
            "text/plain": [
              "<keras.callbacks.History at 0x7efb4c0a2a40>"
            ]
          },
          "metadata": {},
          "execution_count": 9
        }
      ],
      "source": [
        "model.fit(X_train,y_train,validation_data=(X_test,y_test),epochs=100,batch_size=64,verbose=1)"
      ]
    },
    {
      "cell_type": "code",
      "execution_count": 10,
      "metadata": {
        "id": "B575KOSHsurM",
        "colab": {
          "base_uri": "https://localhost:8080/"
        },
        "outputId": "2b41cb4d-1ccd-4f1d-8037-2ff98037def8"
      },
      "outputs": [
        {
          "output_type": "stream",
          "name": "stdout",
          "text": [
            "196/196 [==============================] - 2s 6ms/step\n",
            "104/104 [==============================] - 1s 5ms/step\n"
          ]
        }
      ],
      "source": [
        "train_predict=model.predict(X_train)\n",
        "test_predict=model.predict(X_test)"
      ]
    },
    {
      "cell_type": "code",
      "execution_count": 11,
      "metadata": {
        "id": "_HJ2lrTmsurM",
        "outputId": "2c266ec6-70ca-49e7-8184-85f431e2cb12",
        "colab": {
          "base_uri": "https://localhost:8080/"
        }
      },
      "outputs": [
        {
          "output_type": "stream",
          "name": "stdout",
          "text": [
            "MSE: 0.0009427858748665736\n",
            "MAE: 0.01611936965527183\n",
            "RMSE: 0.030704818430770334\n"
          ]
        }
      ],
      "source": [
        "# performance\n",
        "mse = mean_squared_error(y_test, test_predict)\n",
        "print('MSE: '+str(mse))\n",
        "mae = mean_absolute_error(y_test, test_predict)\n",
        "print('MAE: '+str(mae))\n",
        "rmse = math.sqrt(mean_squared_error(y_test, test_predict))\n",
        "print('RMSE: '+str(rmse))"
      ]
    },
    {
      "cell_type": "code",
      "execution_count": 12,
      "metadata": {
        "id": "xBwibbGhsurM"
      },
      "outputs": [],
      "source": [
        "train_predict=sc.inverse_transform(train_predict)\n",
        "test_predict=sc.inverse_transform(test_predict)"
      ]
    },
    {
      "cell_type": "code",
      "execution_count": 17,
      "metadata": {
        "id": "sJdW724usurM",
        "outputId": "726850b1-406f-43a0-a89a-cc5bc013990a",
        "colab": {
          "base_uri": "https://localhost:8080/",
          "height": 430
        }
      },
      "outputs": [
        {
          "output_type": "display_data",
          "data": {
            "text/plain": [
              "<Figure size 640x480 with 1 Axes>"
            ],
            "image/png": "[encoded data removed]"
          },
          "metadata": {}
        }
      ],
      "source": [
        "look_back=100\n",
        "trainPredictPlot = np.empty_like(apple)\n",
        "trainPredictPlot[:, :] = np.nan\n",
        "trainPredictPlot[look_back:len(train_predict)+look_back, :] = train_predict\n",
        "# shift test predictions for plotting\n",
        "testPredictPlot = np.empty_like(apple)\n",
        "testPredictPlot[:, :] = np.nan\n",
        "testPredictPlot[len(train_predict)+(look_back*2)+1:len(apple)-1, :] = test_predict\n",
        "# plot baseline and predictions\n",
        "plt.plot(sc.inverse_transform(apple), label='Baseline')\n",
        "plt.plot(trainPredictPlot, label='Train Predicted')\n",
        "plt.plot(testPredictPlot, label = 'Test Predicted')\n",
        "plt.legend()\n",
        "plt.show()"
      ]
    },
    {
      "cell_type": "code",
      "execution_count": 13,
      "metadata": {
        "id": "C7VxlFU0surN"
      },
      "outputs": [],
      "source": []
    }
  ],
  "metadata": {
    "kernelspec": {
      "display_name": "Python 3",
      "name": "python3"
    },
    "language_info": {
      "codemirror_mode": {
        "name": "ipython",
        "version": 3
      },
      "file_extension": ".py",
      "mimetype": "text/x-python",
      "name": "python",
      "nbconvert_exporter": "python",
      "pygments_lexer": "ipython3",
      "version": "3.8.5"
    },
    "colab": {
      "provenance": [],
      "gpuType": "T4"
    },
    "accelerator": "GPU"
  },
  "nbformat": 4,
  "nbformat_minor": 0
}