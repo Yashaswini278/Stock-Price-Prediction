{
 "cells": [
  {
   "cell_type": "markdown",
   "metadata": {},
   "source": [
    "# Stock Price Prediction using Stacked LSTM Model"
   ]
  },
  {
   "cell_type": "code",
   "execution_count": 1,
   "metadata": {},
   "outputs": [],
   "source": [
    "# Import required libraries\n",
    "import numpy as np\n",
    "import matplotlib.pyplot as plt\n",
    "import pandas as pd\n",
    "import math\n",
    "import keras\n",
    "from keras.models import Sequential\n",
    "from keras.layers import Dense\n",
    "from keras.layers import LSTM\n",
    "from keras.layers import Dropout\n",
    "from keras.layers import *\n",
    "from sklearn.preprocessing import MinMaxScaler\n",
    "from sklearn.metrics import mean_squared_error\n",
    "from sklearn.metrics import mean_absolute_error\n",
    "from sklearn.model_selection import train_test_split\n",
    "from keras.callbacks import EarlyStopping\n",
    "# fix random seed for reproducibility\n",
    "np.random.seed(7)"
   ]
  },
  {
   "cell_type": "code",
   "execution_count": 2,
   "metadata": {},
   "outputs": [
    {
     "data": {
      "text/plain": [
       "array([[0.00133696],\n",
       "       [0.0012507 ],\n",
       "       [0.00107819],\n",
       "       ...,\n",
       "       [0.91620304],\n",
       "       [0.91542675],\n",
       "       [0.87307543]])"
      ]
     },
     "execution_count": 2,
     "metadata": {},
     "output_type": "execute_result"
    }
   ],
   "source": [
    "#Import dataset\n",
    "df = pd.read_csv(\"big_five_stocks.csv\")\n",
    "df[\"Unnamed: 0\"] = pd.to_datetime(df[\"Unnamed: 0\"])\n",
    "df[\"year\"] = df[\"Unnamed: 0\"].dt.year\n",
    "df[\"month\"] = df[\"Unnamed: 0\"].dt.month\n",
    "df = df.rename({\"Unnamed: 0\" : \"date\"}, axis=1, inplace=False)\n",
    "\n",
    "# get apple stock data\n",
    "apple = df[df.name == 'AAPL'].drop(\"name\", axis=1)\n",
    "apple = apple.reset_index()['close']\n",
    "\n",
    "# scale data\n",
    "sc = MinMaxScaler(feature_range = (0, 1))\n",
    "apple = sc.fit_transform(np.array(apple).reshape(-1,1))\n",
    "apple"
   ]
  },
  {
   "cell_type": "code",
   "execution_count": 3,
   "metadata": {},
   "outputs": [
    {
     "name": "stdout",
     "output_type": "stream",
     "text": [
      "[[0.00133696]\n",
      " [0.0012507 ]\n",
      " [0.00107819]\n",
      " ...\n",
      " [0.04485272]\n",
      " [0.04368827]\n",
      " [0.04351576]]\n"
     ]
    }
   ],
   "source": [
    "# train-test split\n",
    "training_size= int(len(apple)*0.65)\n",
    "test_size = len(apple)-training_size\n",
    "train_data, test_data = apple[0:training_size,:],apple[training_size:len(apple),:1]\n",
    "print(train_data)"
   ]
  },
  {
   "cell_type": "code",
   "execution_count": 4,
   "metadata": {},
   "outputs": [],
   "source": [
    "# create for LSTM\n",
    "def create_dataset(dataset, time_step=1):\n",
    "    dataX, dataY = [], []\n",
    "    for i in range(len(dataset)-time_step-1):\n",
    "        a = dataset[i:(i+time_step), 0]\n",
    "        dataX.append(a)\n",
    "        dataY.append(dataset[i+time_step, 0])\n",
    "    return np.array(dataX),np.array(dataY)"
   ]
  },
  {
   "cell_type": "code",
   "execution_count": 5,
   "metadata": {},
   "outputs": [],
   "source": [
    "time_step=100\n",
    "X_train, y_train = create_dataset(train_data, time_step)\n",
    "X_test, y_test = create_dataset(test_data, time_step)"
   ]
  },
  {
   "cell_type": "code",
   "execution_count": 6,
   "metadata": {
    "scrolled": true
   },
   "outputs": [],
   "source": [
    "X_train =X_train.reshape(X_train.shape[0],X_train.shape[1] , 1)\n",
    "X_test = X_test.reshape(X_test.shape[0],X_test.shape[1] , 1)"
   ]
  },
  {
   "cell_type": "code",
   "execution_count": 7,
   "metadata": {},
   "outputs": [],
   "source": [
    "model=Sequential()\n",
    "model.add(LSTM(50,return_sequences=True,input_shape=(100,1)))\n",
    "model.add(LSTM(50,return_sequences=True))\n",
    "model.add(LSTM(50))\n",
    "model.add(Dense(1))\n",
    "model.compile(loss='mean_squared_error',optimizer='adam')"
   ]
  },
  {
   "cell_type": "code",
   "execution_count": 8,
   "metadata": {},
   "outputs": [
    {
     "name": "stdout",
     "output_type": "stream",
     "text": [
      "Model: \"sequential\"\n",
      "_________________________________________________________________\n",
      "Layer (type)                 Output Shape              Param #   \n",
      "=================================================================\n",
      "lstm (LSTM)                  (None, 100, 50)           10400     \n",
      "_________________________________________________________________\n",
      "lstm_1 (LSTM)                (None, 100, 50)           20200     \n",
      "_________________________________________________________________\n",
      "lstm_2 (LSTM)                (None, 50)                20200     \n",
      "_________________________________________________________________\n",
      "dense (Dense)                (None, 1)                 51        \n",
      "=================================================================\n",
      "Total params: 50,851\n",
      "Trainable params: 50,851\n",
      "Non-trainable params: 0\n",
      "_________________________________________________________________\n"
     ]
    }
   ],
   "source": [
    "model.summary()"
   ]
  },
  {
   "cell_type": "code",
   "execution_count": 9,
   "metadata": {
    "scrolled": true
   },
   "outputs": [
    {
     "name": "stdout",
     "output_type": "stream",
     "text": [
      "Epoch 1/100\n",
      "98/98 [==============================] - 35s 359ms/step - loss: 2.3958e-05 - val_loss: 0.0103\n",
      "Epoch 2/100\n",
      "98/98 [==============================] - 30s 303ms/step - loss: 9.6023e-07 - val_loss: 0.0062\n",
      "Epoch 3/100\n",
      "98/98 [==============================] - 30s 307ms/step - loss: 8.8986e-07 - val_loss: 0.0055\n",
      "Epoch 4/100\n",
      "98/98 [==============================] - 31s 316ms/step - loss: 8.8787e-07 - val_loss: 0.0025\n",
      "Epoch 5/100\n",
      "98/98 [==============================] - 31s 317ms/step - loss: 9.2132e-07 - val_loss: 0.0036\n",
      "Epoch 6/100\n",
      "98/98 [==============================] - 31s 315ms/step - loss: 7.4002e-07 - val_loss: 0.0029\n",
      "Epoch 7/100\n",
      "98/98 [==============================] - 31s 314ms/step - loss: 8.2411e-07 - val_loss: 0.0024\n",
      "Epoch 8/100\n",
      "98/98 [==============================] - 29s 291ms/step - loss: 7.3425e-07 - val_loss: 0.0029\n",
      "Epoch 9/100\n",
      "98/98 [==============================] - 28s 289ms/step - loss: 6.8539e-07 - val_loss: 0.0015\n",
      "Epoch 10/100\n",
      "98/98 [==============================] - 40s 409ms/step - loss: 7.1864e-07 - val_loss: 0.0012\n",
      "Epoch 11/100\n",
      "98/98 [==============================] - 30s 310ms/step - loss: 6.3898e-07 - val_loss: 0.0010\n",
      "Epoch 12/100\n",
      "98/98 [==============================] - 31s 317ms/step - loss: 6.4147e-07 - val_loss: 0.0014\n",
      "Epoch 13/100\n",
      "98/98 [==============================] - 30s 311ms/step - loss: 6.6016e-07 - val_loss: 9.7314e-04\n",
      "Epoch 14/100\n",
      "98/98 [==============================] - 39s 399ms/step - loss: 5.3283e-07 - val_loss: 5.8785e-04\n",
      "Epoch 15/100\n",
      "98/98 [==============================] - 31s 313ms/step - loss: 6.4215e-07 - val_loss: 5.7145e-04\n",
      "Epoch 16/100\n",
      "98/98 [==============================] - 31s 316ms/step - loss: 5.7270e-07 - val_loss: 5.8038e-04\n",
      "Epoch 17/100\n",
      "98/98 [==============================] - 39s 397ms/step - loss: 5.8879e-07 - val_loss: 7.1452e-04\n",
      "Epoch 18/100\n",
      "98/98 [==============================] - 30s 308ms/step - loss: 5.1416e-07 - val_loss: 0.0011\n",
      "Epoch 19/100\n",
      "98/98 [==============================] - 30s 310ms/step - loss: 6.1458e-07 - val_loss: 4.7121e-04\n",
      "Epoch 20/100\n",
      "98/98 [==============================] - 29s 291ms/step - loss: 5.8236e-07 - val_loss: 5.9240e-04\n",
      "Epoch 21/100\n",
      "98/98 [==============================] - 31s 311ms/step - loss: 4.7741e-07 - val_loss: 4.8181e-04\n",
      "Epoch 22/100\n",
      "98/98 [==============================] - 31s 315ms/step - loss: 4.6098e-07 - val_loss: 3.9957e-04\n",
      "Epoch 23/100\n",
      "98/98 [==============================] - 30s 306ms/step - loss: 4.5782e-07 - val_loss: 3.9380e-04\n",
      "Epoch 24/100\n",
      "98/98 [==============================] - 31s 315ms/step - loss: 4.2487e-07 - val_loss: 7.2912e-04\n",
      "Epoch 25/100\n",
      "98/98 [==============================] - 31s 315ms/step - loss: 4.1316e-07 - val_loss: 3.6803e-04\n",
      "Epoch 26/100\n",
      "98/98 [==============================] - 30s 304ms/step - loss: 4.5853e-07 - val_loss: 4.8557e-04\n",
      "Epoch 27/100\n",
      "98/98 [==============================] - 29s 292ms/step - loss: 5.3685e-07 - val_loss: 3.8688e-04\n",
      "Epoch 28/100\n",
      "98/98 [==============================] - 40s 404ms/step - loss: 4.8041e-07 - val_loss: 4.3753e-04\n",
      "Epoch 29/100\n",
      "98/98 [==============================] - 30s 304ms/step - loss: 4.6142e-07 - val_loss: 3.4512e-04\n",
      "Epoch 30/100\n",
      "98/98 [==============================] - 29s 299ms/step - loss: 5.2627e-07 - val_loss: 3.5980e-04\n",
      "Epoch 31/100\n",
      "98/98 [==============================] - 30s 303ms/step - loss: 3.8930e-07 - val_loss: 5.6520e-04\n",
      "Epoch 32/100\n",
      "98/98 [==============================] - 30s 304ms/step - loss: 4.5812e-07 - val_loss: 3.6206e-04\n",
      "Epoch 33/100\n",
      "98/98 [==============================] - 31s 313ms/step - loss: 5.2345e-07 - val_loss: 3.5128e-04\n",
      "Epoch 34/100\n",
      "98/98 [==============================] - 31s 313ms/step - loss: 4.4272e-07 - val_loss: 6.1169e-04\n",
      "Epoch 35/100\n",
      "98/98 [==============================] - 31s 315ms/step - loss: 3.8124e-07 - val_loss: 6.0299e-04\n",
      "Epoch 36/100\n",
      "98/98 [==============================] - 31s 314ms/step - loss: 5.7800e-07 - val_loss: 4.0787e-04\n",
      "Epoch 37/100\n",
      "98/98 [==============================] - 27s 271ms/step - loss: 3.4606e-07 - val_loss: 6.8485e-04\n",
      "Epoch 38/100\n",
      "98/98 [==============================] - 38s 383ms/step - loss: 4.4093e-07 - val_loss: 3.5332e-04\n",
      "Epoch 39/100\n",
      "98/98 [==============================] - 29s 300ms/step - loss: 4.7609e-07 - val_loss: 3.9509e-04\n",
      "Epoch 40/100\n",
      "98/98 [==============================] - 31s 313ms/step - loss: 3.2814e-07 - val_loss: 3.3359e-04\n",
      "Epoch 41/100\n",
      "98/98 [==============================] - 30s 311ms/step - loss: 3.6006e-07 - val_loss: 8.1867e-04\n",
      "Epoch 42/100\n",
      "98/98 [==============================] - 31s 316ms/step - loss: 3.9522e-07 - val_loss: 3.2860e-04\n",
      "Epoch 43/100\n",
      "98/98 [==============================] - 31s 316ms/step - loss: 5.8253e-07 - val_loss: 5.5599e-04\n",
      "Epoch 44/100\n",
      "98/98 [==============================] - 31s 316ms/step - loss: 2.9724e-07 - val_loss: 5.5728e-04\n",
      "Epoch 45/100\n",
      "98/98 [==============================] - 31s 321ms/step - loss: 3.0366e-07 - val_loss: 3.1599e-04\n",
      "Epoch 46/100\n",
      "98/98 [==============================] - 31s 319ms/step - loss: 4.0686e-07 - val_loss: 3.7442e-04\n",
      "Epoch 47/100\n",
      "98/98 [==============================] - 31s 320ms/step - loss: 3.3142e-07 - val_loss: 0.0012\n",
      "Epoch 48/100\n",
      "98/98 [==============================] - 29s 294ms/step - loss: 5.1700e-07 - val_loss: 6.0871e-04\n",
      "Epoch 49/100\n",
      "98/98 [==============================] - 31s 313ms/step - loss: 2.9057e-07 - val_loss: 7.7713e-04\n",
      "Epoch 50/100\n",
      "98/98 [==============================] - 30s 309ms/step - loss: 3.3040e-07 - val_loss: 3.9675e-04\n",
      "Epoch 51/100\n",
      "98/98 [==============================] - 31s 316ms/step - loss: 2.5302e-07 - val_loss: 4.4301e-04\n",
      "Epoch 52/100\n",
      "98/98 [==============================] - 31s 314ms/step - loss: 3.2482e-07 - val_loss: 3.6326e-04\n",
      "Epoch 53/100\n",
      "98/98 [==============================] - 31s 314ms/step - loss: 2.8898e-07 - val_loss: 3.0324e-04\n",
      "Epoch 54/100\n",
      "98/98 [==============================] - 31s 312ms/step - loss: 3.0655e-07 - val_loss: 3.0760e-04\n",
      "Epoch 55/100\n",
      "98/98 [==============================] - 29s 300ms/step - loss: 2.7618e-07 - val_loss: 3.1450e-04\n",
      "Epoch 56/100\n",
      "98/98 [==============================] - 31s 315ms/step - loss: 2.9719e-07 - val_loss: 4.2329e-04\n",
      "Epoch 57/100\n",
      "98/98 [==============================] - 27s 274ms/step - loss: 3.5293e-07 - val_loss: 3.4524e-04\n",
      "Epoch 58/100\n",
      "98/98 [==============================] - 31s 315ms/step - loss: 2.9888e-07 - val_loss: 2.9300e-04\n",
      "Epoch 59/100\n",
      "98/98 [==============================] - 31s 318ms/step - loss: 2.8049e-07 - val_loss: 5.5344e-04\n",
      "Epoch 60/100\n",
      "98/98 [==============================] - 31s 315ms/step - loss: 3.0049e-07 - val_loss: 4.8372e-04\n",
      "Epoch 61/100\n",
      "98/98 [==============================] - 31s 315ms/step - loss: 3.1753e-07 - val_loss: 9.5590e-04\n",
      "Epoch 62/100\n",
      "98/98 [==============================] - 19s 193ms/step - loss: 2.8896e-07 - val_loss: 5.0745e-04\n",
      "Epoch 63/100\n",
      "98/98 [==============================] - 15s 157ms/step - loss: 2.7070e-07 - val_loss: 6.2468e-04\n",
      "Epoch 64/100\n",
      "98/98 [==============================] - 15s 153ms/step - loss: 3.2250e-07 - val_loss: 5.1249e-04\n",
      "Epoch 65/100\n",
      "98/98 [==============================] - 15s 149ms/step - loss: 2.6561e-07 - val_loss: 5.4936e-04\n",
      "Epoch 66/100\n",
      "98/98 [==============================] - 15s 150ms/step - loss: 2.8330e-07 - val_loss: 3.2692e-04\n",
      "Epoch 67/100\n",
      "98/98 [==============================] - 15s 151ms/step - loss: 2.5216e-07 - val_loss: 3.2018e-04\n",
      "Epoch 68/100\n",
      "98/98 [==============================] - 15s 152ms/step - loss: 2.2712e-07 - val_loss: 3.0915e-04\n",
      "Epoch 69/100\n",
      "98/98 [==============================] - 15s 150ms/step - loss: 2.4497e-07 - val_loss: 4.4054e-04\n",
      "Epoch 70/100\n",
      "98/98 [==============================] - 15s 151ms/step - loss: 2.5983e-07 - val_loss: 3.1867e-04\n",
      "Epoch 71/100\n",
      "98/98 [==============================] - 17s 170ms/step - loss: 2.3320e-07 - val_loss: 5.2564e-04\n",
      "Epoch 72/100\n",
      "98/98 [==============================] - 15s 154ms/step - loss: 2.5150e-07 - val_loss: 5.7551e-04\n",
      "Epoch 73/100\n",
      "98/98 [==============================] - 16s 159ms/step - loss: 2.6580e-07 - val_loss: 3.9815e-04\n",
      "Epoch 74/100\n",
      "98/98 [==============================] - 16s 160ms/step - loss: 2.5635e-07 - val_loss: 3.1157e-04\n",
      "Epoch 75/100\n",
      "98/98 [==============================] - 15s 154ms/step - loss: 2.0459e-07 - val_loss: 3.1468e-04\n",
      "Epoch 76/100\n",
      "98/98 [==============================] - 15s 154ms/step - loss: 2.6637e-07 - val_loss: 3.0019e-04\n",
      "Epoch 77/100\n",
      "98/98 [==============================] - 15s 151ms/step - loss: 2.7986e-07 - val_loss: 6.7347e-04\n",
      "Epoch 78/100\n",
      "98/98 [==============================] - 15s 151ms/step - loss: 2.1431e-07 - val_loss: 7.3907e-04\n",
      "Epoch 79/100\n",
      "98/98 [==============================] - 15s 154ms/step - loss: 2.7028e-07 - val_loss: 4.6368e-04\n",
      "Epoch 80/100\n",
      "98/98 [==============================] - 15s 154ms/step - loss: 2.0343e-07 - val_loss: 3.5553e-04\n",
      "Epoch 81/100\n",
      "98/98 [==============================] - 22s 227ms/step - loss: 2.2806e-07 - val_loss: 4.4570e-04\n",
      "Epoch 82/100\n",
      "98/98 [==============================] - 20s 204ms/step - loss: 2.2468e-07 - val_loss: 6.4362e-04: 2s -\n",
      "Epoch 83/100\n",
      "98/98 [==============================] - 18s 184ms/step - loss: 1.7765e-07 - val_loss: 3.2263e-04\n",
      "Epoch 84/100\n",
      "98/98 [==============================] - 17s 171ms/step - loss: 2.0899e-07 - val_loss: 3.9779e-04\n",
      "Epoch 85/100\n",
      "98/98 [==============================] - 17s 175ms/step - loss: 2.2754e-07 - val_loss: 5.5772e-04\n",
      "Epoch 86/100\n",
      "98/98 [==============================] - 17s 172ms/step - loss: 2.3802e-07 - val_loss: 8.1222e-04\n",
      "Epoch 87/100\n",
      "98/98 [==============================] - 17s 172ms/step - loss: 2.2080e-07 - val_loss: 5.9853e-04\n",
      "Epoch 88/100\n",
      "98/98 [==============================] - 18s 184ms/step - loss: 2.0319e-07 - val_loss: 3.2233e-04\n",
      "Epoch 89/100\n",
      "98/98 [==============================] - 17s 173ms/step - loss: 2.1656e-07 - val_loss: 3.5099e-04\n",
      "Epoch 90/100\n",
      "98/98 [==============================] - 17s 169ms/step - loss: 2.5281e-07 - val_loss: 2.9780e-04\n",
      "Epoch 91/100\n",
      "98/98 [==============================] - 16s 168ms/step - loss: 2.4698e-07 - val_loss: 7.2824e-04\n",
      "Epoch 92/100\n",
      "98/98 [==============================] - 17s 173ms/step - loss: 1.8111e-07 - val_loss: 7.3630e-04\n",
      "Epoch 93/100\n",
      "98/98 [==============================] - 17s 173ms/step - loss: 1.7938e-07 - val_loss: 5.2330e-04\n",
      "Epoch 94/100\n",
      "98/98 [==============================] - 17s 178ms/step - loss: 1.6278e-07 - val_loss: 6.2348e-04\n",
      "Epoch 95/100\n",
      "98/98 [==============================] - 20s 201ms/step - loss: 2.8850e-07 - val_loss: 3.8070e-04\n",
      "Epoch 96/100\n",
      "98/98 [==============================] - 17s 169ms/step - loss: 2.1118e-07 - val_loss: 6.0917e-04\n",
      "Epoch 97/100\n",
      "98/98 [==============================] - 17s 168ms/step - loss: 1.8651e-07 - val_loss: 6.3493e-04\n",
      "Epoch 98/100\n",
      "98/98 [==============================] - 17s 176ms/step - loss: 1.8542e-07 - val_loss: 3.9062e-04\n",
      "Epoch 99/100\n",
      "98/98 [==============================] - 20s 201ms/step - loss: 1.9204e-07 - val_loss: 3.6164e-04\n",
      "Epoch 100/100\n",
      "98/98 [==============================] - 16s 165ms/step - loss: 1.7313e-07 - val_loss: 4.7451e-04\n"
     ]
    },
    {
     "data": {
      "text/plain": [
       "<tensorflow.python.keras.callbacks.History at 0x161d6baa9d0>"
      ]
     },
     "execution_count": 9,
     "metadata": {},
     "output_type": "execute_result"
    }
   ],
   "source": [
    "model.fit(X_train,y_train,validation_data=(X_test,y_test),epochs=100,batch_size=64,verbose=1)"
   ]
  },
  {
   "cell_type": "code",
   "execution_count": 15,
   "metadata": {},
   "outputs": [],
   "source": [
    "train_predict=model.predict(X_train)\n",
    "test_predict=model.predict(X_test)"
   ]
  },
  {
   "cell_type": "code",
   "execution_count": 18,
   "metadata": {},
   "outputs": [
    {
     "name": "stdout",
     "output_type": "stream",
     "text": [
      "MSE: 0.00047450504282199856\n",
      "MAE: 0.011271241346924544\n",
      "RMSE: 0.02178313666169311\n"
     ]
    }
   ],
   "source": [
    "# performance\n",
    "mse = mean_squared_error(y_test, test_predict)\n",
    "print('MSE: '+str(mse))\n",
    "mae = mean_absolute_error(y_test, test_predict)\n",
    "print('MAE: '+str(mae))\n",
    "rmse = math.sqrt(mean_squared_error(y_test, test_predict))\n",
    "print('RMSE: '+str(rmse))"
   ]
  },
  {
   "cell_type": "code",
   "execution_count": 19,
   "metadata": {},
   "outputs": [],
   "source": [
    "train_predict=sc.inverse_transform(train_predict)\n",
    "test_predict=sc.inverse_transform(test_predict)"
   ]
  },
  {
   "cell_type": "code",
   "execution_count": 20,
   "metadata": {},
   "outputs": [
    {
     "data": {
      "image/png": "[encoded data removed]",
      "text/plain": [
       "<Figure size 432x288 with 1 Axes>"
      ]
     },
     "metadata": {
      "needs_background": "light"
     },
     "output_type": "display_data"
    }
   ],
   "source": [
    "look_back=100\n",
    "trainPredictPlot = np.empty_like(apple)\n",
    "trainPredictPlot[:, :] = np.nan\n",
    "trainPredictPlot[look_back:len(train_predict)+look_back, :] = train_predict\n",
    "# shift test predictions for plotting\n",
    "testPredictPlot = np.empty_like(apple)\n",
    "testPredictPlot[:, :] = np.nan\n",
    "testPredictPlot[len(train_predict)+(look_back*2)+1:len(apple)-1, :] = test_predict\n",
    "# plot baseline and predictions\n",
    "plt.plot(sc.inverse_transform(apple))\n",
    "plt.plot(trainPredictPlot)\n",
    "plt.plot(testPredictPlot)\n",
    "plt.show()"
   ]
  },
  {
   "cell_type": "code",
   "execution_count": null,
   "metadata": {},
   "outputs": [],
   "source": []
  }
 ],
 "metadata": {
  "kernelspec": {
   "display_name": "Python 3",
   "language": "python",
   "name": "python3"
  },
  "language_info": {
   "codemirror_mode": {
    "name": "ipython",
    "version": 3
   },
   "file_extension": ".py",
   "mimetype": "text/x-python",
   "name": "python",
   "nbconvert_exporter": "python",
   "pygments_lexer": "ipython3",
   "version": "3.8.5"
  }
 },
 "nbformat": 4,
 "nbformat_minor": 4
}
